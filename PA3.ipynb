{
 "cells": [
  {
   "cell_type": "markdown",
   "id": "99d086fb",
   "metadata": {},
   "source": [
    "# CS-150 Programming Assignment 3 - Writing Functions"
   ]
  },
  {
   "cell_type": "markdown",
   "id": "8d81c0c0",
   "metadata": {},
   "source": [
    "## Gracie Bayer - Professor Sarkar - Fall 2021"
   ]
  },
  {
   "cell_type": "markdown",
   "id": "0f2206f6",
   "metadata": {},
   "source": [
    "### Chapter 4 - Intro to Python Programming - Deitel & Deitel"
   ]
  },
  {
   "cell_type": "code",
   "execution_count": 1,
   "id": "973da33c",
   "metadata": {},
   "outputs": [
    {
     "name": "stdout",
     "output_type": "stream",
     "text": [
      "Enter the length of side A: 5\n",
      "Enter the length of side B: 5\n",
      "Enter the length of side C: 5\n",
      "The area of the triangle is approximately 10.825318 square units.\n",
      "The perimeter of the triangle is approximately 15.000000 linear units.\n"
     ]
    }
   ],
   "source": [
    "a=float(input('Enter the length of side A: '))\n",
    "b=float(input('Enter the length of side B: '))\n",
    "c=float(input('Enter the length of side C: '))\n",
    "s=(a+b+c)/2\n",
    "calcArea=(s*(s-a)*(s-b)*(s-c))**0.5\n",
    "print('The area of the triangle is approximately %2f square units.' %calcArea)\n",
    "perimeter=a+b+c\n",
    "calcPerimeter=a+b+c\n",
    "print('The perimeter of the triangle is approximately %2f linear units.' %calcPerimeter)"
   ]
  },
  {
   "cell_type": "code",
   "execution_count": 5,
   "id": "bb722479",
   "metadata": {},
   "outputs": [
    {
     "name": "stdout",
     "output_type": "stream",
     "text": [
      "Enter your guess: 500\n",
      "Too high! Guess again.\n",
      "Enter your guess: 300\n",
      "Too high! Guess again.\n",
      "Enter your guess: 100\n",
      "Too low! Guess again.\n",
      "Enter your guess: 200\n",
      "Too high! Guess again.\n",
      "Enter your guess: 150\n",
      "Too high! Guess again.\n",
      "Enter your guess: 135\n",
      "Too high! Guess again.\n",
      "Enter your guess: 120\n",
      "Too low! Guess again.\n",
      "Enter your guess: 126\n",
      "Too low! Guess again.\n",
      "Enter your guess: 129\n",
      "Too high! Guess again.\n",
      "Enter your guess: 132\n",
      "Too high! Guess again.\n",
      "Enter your guess: 128\n"
     ]
    }
   ],
   "source": [
    "import random\n",
    "number=random.randrange(1, 1000)\n",
    "guess=int(input(\"Enter your guess: \"))\n",
    "while guess != number:\n",
    "    if guess < number:\n",
    "        print(\"Too low! Guess again.\")\n",
    "        guess=int(input(\"Enter your guess: \"))\n",
    "    elif guess > number:\n",
    "        print(\"Too high! Guess again.\")\n",
    "        guess=int(input(\"Enter your guess: \"))\n",
    "    elif guess == number:\n",
    "        break\n",
    "        print(\"Correct\")\n",
    "# not done with this one - I am not sure how to get it to print \"Correct\" when done"
   ]
  },
  {
   "cell_type": "code",
   "execution_count": 6,
   "id": "cf95beae",
   "metadata": {},
   "outputs": [
    {
     "name": "stdout",
     "output_type": "stream",
     "text": [
      "The mean temperature for the past 7 days is 80.00\n",
      "The mean temperature for the past 5 days is 80.20\n",
      "The mean temperature for the past 2 days is 90.00\n"
     ]
    }
   ],
   "source": [
    "a=float(input(\"The mean temperature for the past 7 days is \"))\n",
    "b=float(input(\"The mean temperature for the past 5 days is \"))\n",
    "c=float(input(\"The mean temperature for the past 2 days is \"))\n",
    "def meanTemp(*temps):\n",
    "    len(temps)\n",
    "    meanTemps(29,32,34)\n",
    "    meanTemps(30,32,12,45,32,34)\n",
    "    print(\"degrees F\")\n",
    "# not done with this one either - I am unsure of how to do this one as well"
   ]
  }
 ],
 "metadata": {
  "kernelspec": {
   "display_name": "Python 3",
   "language": "python",
   "name": "python3"
  },
  "language_info": {
   "codemirror_mode": {
    "name": "ipython",
    "version": 3
   },
   "file_extension": ".py",
   "mimetype": "text/x-python",
   "name": "python",
   "nbconvert_exporter": "python",
   "pygments_lexer": "ipython3",
   "version": "3.8.8"
  }
 },
 "nbformat": 4,
 "nbformat_minor": 5
}
